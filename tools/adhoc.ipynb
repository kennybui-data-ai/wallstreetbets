{
 "metadata": {
  "language_info": {
   "codemirror_mode": {
    "name": "ipython",
    "version": 3
   },
   "file_extension": ".py",
   "mimetype": "text/x-python",
   "name": "python",
   "nbconvert_exporter": "python",
   "pygments_lexer": "ipython3",
   "version": "3.6.3-final"
  },
  "orig_nbformat": 2,
  "kernelspec": {
   "name": "python3",
   "display_name": "Python 3",
   "language": "python"
  }
 },
 "nbformat": 4,
 "nbformat_minor": 2,
 "cells": [
  {
   "cell_type": "code",
   "execution_count": 1,
   "metadata": {},
   "outputs": [],
   "source": [
    "import pandas as pd\n",
    "import numpy as np\n",
    "from IPython.display import display, HTML\n",
    "import os\n",
    "\n",
    "notebook_path = os.path.abspath(\"adhoc.ipynb\")\n",
    "notebook_dir = str(os.path.dirname(notebook_path)).replace(\"\\\\\\\\\", \"/\").replace(\"\\\\\", \"/\")\n",
    "output_folder = f\"{notebook_dir}/../output\"\n",
    "raw_output = f\"{output_folder}/raw\"\n",
    "curated_output = f\"{output_folder}/curated\"\n",
    "semantic_output = f\"{output_folder}/semantic\"\n",
    "\n",
    "nyse_tickers = f\"{notebook_dir}/../wsb/nyse-listed.csv\"\n",
    "nasdaq_tickers = f\"{notebook_dir}/../wsb/nasdaq-listed.csv\"\n",
    "curated_stockticker = f\"{curated_output}/StockTicker.csv\"\n",
    "curated_dailydiscussion = f\"{curated_output}/DailyDiscussion.csv\"\n",
    "\n",
    "# output_html = f\"{notebook_dir}/../index.html\""
   ]
  },
  {
   "cell_type": "code",
   "execution_count": 2,
   "metadata": {},
   "outputs": [
    {
     "output_type": "stream",
     "name": "stdout",
     "text": [
      "[Errno 2] No such file or directory: 'template.html'\n"
     ]
    },
    {
     "output_type": "execute_result",
     "data": {
      "text/plain": [
       "<models.HTML at 0x6616510>"
      ]
     },
     "metadata": {},
     "execution_count": 2
    }
   ],
   "source": [
    "# https://stackoverflow.com/questions/34478398/import-local-function-from-a-module-housed-in-another-directory-with-relative-im\n",
    "# import os\n",
    "import sys\n",
    "module_path = os.path.abspath(os.path.join('../wsb'))\n",
    "if module_path not in sys.path:\n",
    "    sys.path.append(module_path)\n",
    "\n",
    "import models\n",
    "\n",
    "models.HTML()"
   ]
  }
 ]
}