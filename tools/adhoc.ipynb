{
 "metadata": {
  "language_info": {
   "codemirror_mode": {
    "name": "ipython",
    "version": 3
   },
   "file_extension": ".py",
   "mimetype": "text/x-python",
   "name": "python",
   "nbconvert_exporter": "python",
   "pygments_lexer": "ipython3",
   "version": "3.7.3-final"
  },
  "orig_nbformat": 2,
  "kernelspec": {
   "name": "python3",
   "display_name": "Python 3.7.3 64-bit ('testdev')",
   "metadata": {
    "interpreter": {
     "hash": "f7b3623273f49a87cab5a4debf083204252a7af5283a051b2fe1688ef4da9bdf"
    }
   }
  }
 },
 "nbformat": 4,
 "nbformat_minor": 2,
 "cells": [
  {
   "cell_type": "code",
   "execution_count": 84,
   "metadata": {},
   "outputs": [],
   "source": [
    "import pandas as pd\n",
    "import numpy as np\n",
    "from IPython.display import display, HTML\n",
    "import os\n",
    "import re\n",
    "\n",
    "notebook_path = os.path.abspath(\"adhoc.ipynb\")\n",
    "notebook_dir = str(os.path.dirname(notebook_path)).replace(\"\\\\\\\\\", \"/\").replace(\"\\\\\", \"/\")\n",
    "output_folder = f\"{notebook_dir}/../output\"\n",
    "raw_output = f\"{output_folder}/raw\"\n",
    "curated_output = f\"{output_folder}/curated\"\n",
    "semantic_output = f\"{output_folder}/semantic\"\n",
    "\n",
    "nyse_tickers = f\"{notebook_dir}/../wsb/nyse-listed.csv\"\n",
    "nasdaq_tickers = f\"{notebook_dir}/../wsb/nasdaq-listed.csv\"\n",
    "curated_stockticker = f\"{curated_output}/StockTicker.csv\""
   ]
  },
  {
   "cell_type": "code",
   "execution_count": 87,
   "metadata": {},
   "outputs": [
    {
     "output_type": "execute_result",
     "data": {
      "text/plain": [
       "Unnamed: 0                  int64\n",
       "id                         object\n",
       "title                      object\n",
       "name                       object\n",
       "upvote_ratio              float64\n",
       "ups                         int64\n",
       "score                       int64\n",
       "sort                       object\n",
       "created                    object\n",
       "author                     object\n",
       "num_comments                int64\n",
       "flair                      object\n",
       "permalink                  object\n",
       "built_url                  object\n",
       "url                        object\n",
       "submission_text            object\n",
       "last_updated               object\n",
       "raw_filename               object\n",
       "model                      object\n",
       "title_regex                object\n",
       "title_ticker               object\n",
       "submission_text_regex      object\n",
       "submission_text_ticker     object\n",
       "dtype: object"
      ]
     },
     "metadata": {},
     "execution_count": 87
    }
   ],
   "source": [
    "# pd.set_option('display.max_colwidth', None)\n",
    "sep = \"|\"\n",
    "df = pd.read_csv(curated_stockticker, sep=sep)\n",
    "\n",
    "df.dtypes\n",
    "# display(df)\n",
    "# display(df.iloc[[0]])"
   ]
  },
  {
   "cell_type": "code",
   "execution_count": 88,
   "metadata": {},
   "outputs": [
    {
     "output_type": "execute_result",
     "data": {
      "text/plain": [
       "                                         title  \\\n",
       "36  AMD figures today. 100k yolo. Let’s go!🚀🚀🚀   \n",
       "\n",
       "                                                                                       built_url  \\\n",
       "36  https://www.reddit.com/r/wallstreetbets/comments/l5gsp8/amd_figures_today_100k_yolo_lets_go/   \n",
       "\n",
       "   title_ticker submission_text_ticker  \n",
       "36           []                     []  "
      ],
      "text/html": "<div>\n<style scoped>\n    .dataframe tbody tr th:only-of-type {\n        vertical-align: middle;\n    }\n\n    .dataframe tbody tr th {\n        vertical-align: top;\n    }\n\n    .dataframe thead th {\n        text-align: right;\n    }\n</style>\n<table border=\"1\" class=\"dataframe\">\n  <thead>\n    <tr style=\"text-align: right;\">\n      <th></th>\n      <th>title</th>\n      <th>built_url</th>\n      <th>title_ticker</th>\n      <th>submission_text_ticker</th>\n    </tr>\n  </thead>\n  <tbody>\n    <tr>\n      <th>36</th>\n      <td>AMD figures today. 100k yolo. Let’s go!🚀🚀🚀</td>\n      <td>https://www.reddit.com/r/wallstreetbets/comments/l5gsp8/amd_figures_today_100k_yolo_lets_go/</td>\n      <td>[]</td>\n      <td>[]</td>\n    </tr>\n  </tbody>\n</table>\n</div>"
     },
     "metadata": {},
     "execution_count": 88
    }
   ],
   "source": [
    "df[df['id'].str.contains(\"l5gsp8\")][[\"title\",\"built_url\",\"title_ticker\", \"submission_text_ticker\"]]\n"
   ]
  },
  {
   "cell_type": "code",
   "execution_count": null,
   "metadata": {},
   "outputs": [],
   "source": []
  }
 ]
}